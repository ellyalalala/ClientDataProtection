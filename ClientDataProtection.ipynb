{
 "cells": [
  {
   "cell_type": "markdown",
   "metadata": {
    "toc": true
   },
   "source": [
    "<h1>Содержание<span class=\"tocSkip\"></span></h1>\n",
    "<div class=\"toc\"><ul class=\"toc-item\"><li><span><a href=\"#Загрузка-данных\" data-toc-modified-id=\"Загрузка-данных-1\"><span class=\"toc-item-num\">1&nbsp;&nbsp;</span>Загрузка данных</a></span></li><li><span><a href=\"#Умножение-матриц\" data-toc-modified-id=\"Умножение-матриц-2\"><span class=\"toc-item-num\">2&nbsp;&nbsp;</span>Умножение матриц</a></span></li><li><span><a href=\"#Алгоритм-преобразования\" data-toc-modified-id=\"Алгоритм-преобразования-3\"><span class=\"toc-item-num\">3&nbsp;&nbsp;</span>Алгоритм преобразования</a></span></li><li><span><a href=\"#Проверка-алгоритма\" data-toc-modified-id=\"Проверка-алгоритма-4\"><span class=\"toc-item-num\">4&nbsp;&nbsp;</span>Проверка алгоритма</a></span></li><li><span><a href=\"#Вывод\" data-toc-modified-id=\"Вывод-5\"><span class=\"toc-item-num\">5&nbsp;&nbsp;</span>Вывод</a></span></li><li><span><a href=\"#Чек-лист-проверки\" data-toc-modified-id=\"Чек-лист-проверки-6\"><span class=\"toc-item-num\">6&nbsp;&nbsp;</span>Чек-лист проверки</a></span></li></ul></div>"
   ]
  },
  {
   "cell_type": "markdown",
   "metadata": {},
   "source": [
    "# Защита персональных данных клиентов"
   ]
  },
  {
   "cell_type": "markdown",
   "metadata": {},
   "source": [
    "Вам нужно защитить данные клиентов страховой компании «Хоть потоп». Разработайте такой метод преобразования данных, чтобы по ним было сложно восстановить персональную информацию. Обоснуйте корректность его работы.\n",
    "\n",
    "Нужно защитить данные, чтобы при преобразовании качество моделей машинного обучения не ухудшилось. Подбирать наилучшую модель не требуется."
   ]
  },
  {
   "cell_type": "markdown",
   "metadata": {},
   "source": [
    "## Загрузка данных"
   ]
  },
  {
   "cell_type": "code",
   "execution_count": 85,
   "metadata": {},
   "outputs": [],
   "source": [
    "#импорты и первичный анализ"
   ]
  },
  {
   "cell_type": "code",
   "execution_count": 86,
   "metadata": {},
   "outputs": [],
   "source": [
    "import pandas as pd\n",
    "import numpy as np\n",
    "import sklearn\n",
    "\n",
    "from sklearn.model_selection import train_test_split\n",
    "from sklearn.linear_model import LinearRegression\n",
    "from sklearn.metrics import r2_score"
   ]
  },
  {
   "cell_type": "code",
   "execution_count": 87,
   "metadata": {},
   "outputs": [],
   "source": [
    "data = pd.read_csv('/datasets/insurance.csv')"
   ]
  },
  {
   "cell_type": "code",
   "execution_count": 88,
   "metadata": {},
   "outputs": [
    {
     "data": {
      "text/html": [
       "<div>\n",
       "<style scoped>\n",
       "    .dataframe tbody tr th:only-of-type {\n",
       "        vertical-align: middle;\n",
       "    }\n",
       "\n",
       "    .dataframe tbody tr th {\n",
       "        vertical-align: top;\n",
       "    }\n",
       "\n",
       "    .dataframe thead th {\n",
       "        text-align: right;\n",
       "    }\n",
       "</style>\n",
       "<table border=\"1\" class=\"dataframe\">\n",
       "  <thead>\n",
       "    <tr style=\"text-align: right;\">\n",
       "      <th></th>\n",
       "      <th>Пол</th>\n",
       "      <th>Возраст</th>\n",
       "      <th>Зарплата</th>\n",
       "      <th>Члены семьи</th>\n",
       "      <th>Страховые выплаты</th>\n",
       "    </tr>\n",
       "  </thead>\n",
       "  <tbody>\n",
       "    <tr>\n",
       "      <th>0</th>\n",
       "      <td>1</td>\n",
       "      <td>41.0</td>\n",
       "      <td>49600.0</td>\n",
       "      <td>1</td>\n",
       "      <td>0</td>\n",
       "    </tr>\n",
       "    <tr>\n",
       "      <th>1</th>\n",
       "      <td>0</td>\n",
       "      <td>46.0</td>\n",
       "      <td>38000.0</td>\n",
       "      <td>1</td>\n",
       "      <td>1</td>\n",
       "    </tr>\n",
       "    <tr>\n",
       "      <th>2</th>\n",
       "      <td>0</td>\n",
       "      <td>29.0</td>\n",
       "      <td>21000.0</td>\n",
       "      <td>0</td>\n",
       "      <td>0</td>\n",
       "    </tr>\n",
       "    <tr>\n",
       "      <th>3</th>\n",
       "      <td>0</td>\n",
       "      <td>21.0</td>\n",
       "      <td>41700.0</td>\n",
       "      <td>2</td>\n",
       "      <td>0</td>\n",
       "    </tr>\n",
       "    <tr>\n",
       "      <th>4</th>\n",
       "      <td>1</td>\n",
       "      <td>28.0</td>\n",
       "      <td>26100.0</td>\n",
       "      <td>0</td>\n",
       "      <td>0</td>\n",
       "    </tr>\n",
       "  </tbody>\n",
       "</table>\n",
       "</div>"
      ],
      "text/plain": [
       "   Пол  Возраст  Зарплата  Члены семьи  Страховые выплаты\n",
       "0    1     41.0   49600.0            1                  0\n",
       "1    0     46.0   38000.0            1                  1\n",
       "2    0     29.0   21000.0            0                  0\n",
       "3    0     21.0   41700.0            2                  0\n",
       "4    1     28.0   26100.0            0                  0"
      ]
     },
     "execution_count": 88,
     "metadata": {},
     "output_type": "execute_result"
    }
   ],
   "source": [
    "data.head()"
   ]
  },
  {
   "cell_type": "code",
   "execution_count": 89,
   "metadata": {},
   "outputs": [
    {
     "name": "stdout",
     "output_type": "stream",
     "text": [
      "<class 'pandas.core.frame.DataFrame'>\n",
      "RangeIndex: 5000 entries, 0 to 4999\n",
      "Data columns (total 5 columns):\n",
      " #   Column             Non-Null Count  Dtype  \n",
      "---  ------             --------------  -----  \n",
      " 0   Пол                5000 non-null   int64  \n",
      " 1   Возраст            5000 non-null   float64\n",
      " 2   Зарплата           5000 non-null   float64\n",
      " 3   Члены семьи        5000 non-null   int64  \n",
      " 4   Страховые выплаты  5000 non-null   int64  \n",
      "dtypes: float64(2), int64(3)\n",
      "memory usage: 195.4 KB\n"
     ]
    }
   ],
   "source": [
    "data.info()"
   ]
  },
  {
   "cell_type": "code",
   "execution_count": 90,
   "metadata": {},
   "outputs": [],
   "source": [
    "#пропусков нет"
   ]
  },
  {
   "cell_type": "code",
   "execution_count": 91,
   "metadata": {},
   "outputs": [
    {
     "data": {
      "text/html": [
       "<div>\n",
       "<style scoped>\n",
       "    .dataframe tbody tr th:only-of-type {\n",
       "        vertical-align: middle;\n",
       "    }\n",
       "\n",
       "    .dataframe tbody tr th {\n",
       "        vertical-align: top;\n",
       "    }\n",
       "\n",
       "    .dataframe thead th {\n",
       "        text-align: right;\n",
       "    }\n",
       "</style>\n",
       "<table border=\"1\" class=\"dataframe\">\n",
       "  <thead>\n",
       "    <tr style=\"text-align: right;\">\n",
       "      <th></th>\n",
       "      <th>Пол</th>\n",
       "      <th>Возраст</th>\n",
       "      <th>Зарплата</th>\n",
       "      <th>Члены семьи</th>\n",
       "      <th>Страховые выплаты</th>\n",
       "    </tr>\n",
       "  </thead>\n",
       "  <tbody>\n",
       "    <tr>\n",
       "      <th>count</th>\n",
       "      <td>5000.000000</td>\n",
       "      <td>5000.000000</td>\n",
       "      <td>5000.000000</td>\n",
       "      <td>5000.000000</td>\n",
       "      <td>5000.000000</td>\n",
       "    </tr>\n",
       "    <tr>\n",
       "      <th>mean</th>\n",
       "      <td>0.499000</td>\n",
       "      <td>30.952800</td>\n",
       "      <td>39916.360000</td>\n",
       "      <td>1.194200</td>\n",
       "      <td>0.148000</td>\n",
       "    </tr>\n",
       "    <tr>\n",
       "      <th>std</th>\n",
       "      <td>0.500049</td>\n",
       "      <td>8.440807</td>\n",
       "      <td>9900.083569</td>\n",
       "      <td>1.091387</td>\n",
       "      <td>0.463183</td>\n",
       "    </tr>\n",
       "    <tr>\n",
       "      <th>min</th>\n",
       "      <td>0.000000</td>\n",
       "      <td>18.000000</td>\n",
       "      <td>5300.000000</td>\n",
       "      <td>0.000000</td>\n",
       "      <td>0.000000</td>\n",
       "    </tr>\n",
       "    <tr>\n",
       "      <th>25%</th>\n",
       "      <td>0.000000</td>\n",
       "      <td>24.000000</td>\n",
       "      <td>33300.000000</td>\n",
       "      <td>0.000000</td>\n",
       "      <td>0.000000</td>\n",
       "    </tr>\n",
       "    <tr>\n",
       "      <th>50%</th>\n",
       "      <td>0.000000</td>\n",
       "      <td>30.000000</td>\n",
       "      <td>40200.000000</td>\n",
       "      <td>1.000000</td>\n",
       "      <td>0.000000</td>\n",
       "    </tr>\n",
       "    <tr>\n",
       "      <th>75%</th>\n",
       "      <td>1.000000</td>\n",
       "      <td>37.000000</td>\n",
       "      <td>46600.000000</td>\n",
       "      <td>2.000000</td>\n",
       "      <td>0.000000</td>\n",
       "    </tr>\n",
       "    <tr>\n",
       "      <th>max</th>\n",
       "      <td>1.000000</td>\n",
       "      <td>65.000000</td>\n",
       "      <td>79000.000000</td>\n",
       "      <td>6.000000</td>\n",
       "      <td>5.000000</td>\n",
       "    </tr>\n",
       "  </tbody>\n",
       "</table>\n",
       "</div>"
      ],
      "text/plain": [
       "               Пол      Возраст      Зарплата  Члены семьи  Страховые выплаты\n",
       "count  5000.000000  5000.000000   5000.000000  5000.000000        5000.000000\n",
       "mean      0.499000    30.952800  39916.360000     1.194200           0.148000\n",
       "std       0.500049     8.440807   9900.083569     1.091387           0.463183\n",
       "min       0.000000    18.000000   5300.000000     0.000000           0.000000\n",
       "25%       0.000000    24.000000  33300.000000     0.000000           0.000000\n",
       "50%       0.000000    30.000000  40200.000000     1.000000           0.000000\n",
       "75%       1.000000    37.000000  46600.000000     2.000000           0.000000\n",
       "max       1.000000    65.000000  79000.000000     6.000000           5.000000"
      ]
     },
     "execution_count": 91,
     "metadata": {},
     "output_type": "execute_result"
    }
   ],
   "source": [
    "data.describe()\n"
   ]
  },
  {
   "cell_type": "markdown",
   "metadata": {},
   "source": [
    " Все данные на месте и не требуют предобработки. "
   ]
  },
  {
   "cell_type": "markdown",
   "metadata": {},
   "source": [
    "<div class=\"alert alert-block alert-success\">\n",
    "<b>Комментарий ревьюера👍:</b> Хорошо\n",
    "</div>"
   ]
  },
  {
   "cell_type": "markdown",
   "metadata": {},
   "source": [
    "## Умножение матриц"
   ]
  },
  {
   "cell_type": "markdown",
   "metadata": {},
   "source": [
    "В этом задании вы можете записывать формулы в *Jupyter Notebook.*\n",
    "\n",
    "Чтобы записать формулу внутри текста, окружите её символами доллара \\\\$; если снаружи —  двойными символами \\\\$\\\\$. Эти формулы записываются на языке вёрстки *LaTeX.* \n",
    "\n",
    "Для примера мы записали формулы линейной регрессии. Можете их скопировать и отредактировать, чтобы решить задачу.\n",
    "\n",
    "Работать в *LaTeX* необязательно."
   ]
  },
  {
   "cell_type": "markdown",
   "metadata": {},
   "source": [
    "Обозначения:\n",
    "\n",
    "- $X$ — матрица признаков (нулевой столбец состоит из единиц)\n",
    "\n",
    "- $y$ — вектор целевого признака\n",
    "\n",
    "- $P$ — матрица, на которую умножаются признаки\n",
    "\n",
    "- $w$ — вектор весов линейной регрессии (нулевой элемент равен сдвигу)"
   ]
  },
  {
   "cell_type": "markdown",
   "metadata": {},
   "source": [
    "Предсказания:\n",
    "\n",
    "$$\n",
    "a = Xw\n",
    "$$\n",
    "\n",
    "Задача обучения:\n",
    "\n",
    "$$\n",
    "w = \\arg\\min_w MSE(Xw, y)\n",
    "$$\n",
    "\n",
    "Формула обучения:\n",
    "\n",
    "$$\n",
    "w = (X^T X)^{-1} X^T y\n",
    "$$"
   ]
  },
  {
   "cell_type": "markdown",
   "metadata": {},
   "source": [
    " Признаки умножают на обратимую матрицу. Изменится ли качество линейной регрессии? (Её можно обучить заново.)\n",
    " a. Изменится. Приведите примеры матриц.\n",
    " b. Не изменится. Укажите, как связаны параметры линейной регрессии в исходной задаче и в преобразованной.\n",
    " \n",
    "**Ответ:** НЕТ\n",
    "\n",
    "**Обоснование:** \n",
    "Запишу новое представление матрицы признаков с учетом домнажения на обратную матрицу:\n",
    "\n",
    "$$\n",
    "Z = XP\n",
    "$$\n",
    "\n",
    "Тогда формулы будут иметь следующий вид:\n",
    "\n",
    "Предсказания: \n",
    "$$\n",
    "A=ZW\n",
    "$$\n",
    "\n",
    "Формула обучения: \n",
    "$$\n",
    "W = (Z^T Z)^{-1} Z^T y\n",
    "$$\n",
    "\n",
    "где W - вектор весов\n",
    "\n",
    "Подставлю значение Z в формулу обучения и преобразую ее:\n",
    "$$\n",
    "W = (Z^T Z)^{-1} Z^T y\n",
    "$$\n",
    "\n",
    "$$\n",
    "W = ((XP^T)(XP))^{-1} (XP)^T y\n",
    "$$\n",
    "\n",
    "<div class=\"alert alert-block alert-danger\">\n",
    "<b>Комментарий ревьюера❌:</b> молодец, что не раскрыла $(X^T X)^{-1}$, так как для неквадратных матриц $X$ и $X^T$ обратных матриц не существует, но у матриц принципиален порядок множителей, поэтому при раскрытии скобок мы должны пользоваться следующими свойствами:\n",
    "    \n",
    "$$\n",
    "(AB)^T=B^T A^T\n",
    "$$\n",
    "$$\n",
    "(AB)^{-1} = B^{-1} A^{-1}\n",
    "$$\n",
    "$$\n",
    "A A^{-1} = A^{-1} A = E\n",
    "$$\n",
    "$$\n",
    "AE = EA = A\n",
    "$$\n",
    "</div>\n",
    "\n",
    "$$\n",
    "W = (P^T X^T XP)^{-1} P^T X^T  y\n",
    "$$\n",
    "\n",
    "$$\n",
    "W = P^{-1} (X^T X)^{-1}  (P^T)^{-1}  P^T X^T y\n",
    "$$\n",
    "\n",
    "По свойству обратной матрицы: при умножение матрицы на обратную ей получается единичная матрица (E)\n",
    "\n",
    "Получается, что:\n",
    "$$\n",
    "(P^T)^{-1} P^T = E\n",
    "$$\n",
    "\n",
    "Вектор весов линейной регрессии:\n",
    "$$\n",
    "W = (EP)^{-1}(X^T X)^{-1}  X^T y\n",
    "$$\n",
    "\n",
    "Так как при умножение любой матрицы на единичную матрицу получается таже самая матрица, то:\n",
    "\n",
    "$$\n",
    "W =  P^{-1} (X^T X)^{-1}  X^T y\n",
    "$$\n",
    "\n",
    "Полученную выше формулу можно представить ввиде \n",
    "$$\n",
    "W = P^{-1} w\n",
    "$$\n",
    "так как \n",
    "$$\n",
    " w = (X^T X)^{-1} X^T y\n",
    "$$\n",
    "\n",
    "\n",
    "Подставлю полученное значение вектора весов линейной регрессии в формулу предсказаний:\n",
    "\n",
    "$$\n",
    "W = Z(P^{-1} w)\n",
    "$$\n",
    "$$\n",
    "W = XP(P^{-1} w)\n",
    "$$\n",
    "\n",
    "По свойству обратной матрицы и единичной матрицы сразу сокращаю $$P$$ и $$P^{-1}$$\n",
    "\n",
    "$$\n",
    "A = X w\n",
    "$$\n",
    "\n",
    "Исходная формула вектора предсказаний равна формуле вектора предсказаний в случае, для которого матрицу признаков умножили на обратимую матрицу. Качество линейной регрессии не изменится."
   ]
  },
  {
   "cell_type": "markdown",
   "metadata": {},
   "source": [
    "<div class=\"alert alert-block alert-success\">\n",
    "<b>Комментарий ревьюера V.2👍:</b> Теперь верно =)\n",
    "</div>"
   ]
  },
  {
   "cell_type": "markdown",
   "metadata": {},
   "source": [
    "## Алгоритм преобразования"
   ]
  },
  {
   "cell_type": "markdown",
   "metadata": {},
   "source": [
    "**Алгоритм**\n",
    "\n",
    "План действий:\n",
    "\n",
    "Умножу матрицу признаков на матрицу шифрования \n",
    "\n",
    "Найду метрики качества  и  на исходных данных и на преобразованных\n",
    "\n",
    "Вывод\n",
    "\n"
   ]
  },
  {
   "cell_type": "markdown",
   "metadata": {},
   "source": [
    "**Обоснование**\n",
    "\n",
    "Если произвести умножение признаков выборок на одну и ту же обратимую матрицу, количество столбцов матрицы A должно быть равно количеству строк матрицы, полученная матрица будет иметь количество строк матрицы A и количество столбцов матрицы B. "
   ]
  },
  {
   "cell_type": "markdown",
   "metadata": {},
   "source": [
    "<div class=\"alert alert-block alert-success\">\n",
    "<b>Комментарий ревьюера👍:</b> Верно\n",
    "</div>"
   ]
  },
  {
   "cell_type": "markdown",
   "metadata": {},
   "source": [
    "## Проверка алгоритма"
   ]
  },
  {
   "cell_type": "code",
   "execution_count": 92,
   "metadata": {},
   "outputs": [],
   "source": [
    "#разобью на признаки \n",
    "features = data.drop('Страховые выплаты', axis=1)\n",
    "target = data['Страховые выплаты']"
   ]
  },
  {
   "cell_type": "code",
   "execution_count": 93,
   "metadata": {},
   "outputs": [],
   "source": [
    "#выборки\n",
    "train_features, test_features, train_target, test_target = train_test_split(\n",
    "    features,target, test_size=0.25, random_state=254\n",
    ")"
   ]
  },
  {
   "cell_type": "code",
   "execution_count": 94,
   "metadata": {},
   "outputs": [
    {
     "name": "stdout",
     "output_type": "stream",
     "text": [
      "Размер тренировочной выборки- 75%\n",
      "Размер тестовой выборки - 25%\n"
     ]
    }
   ],
   "source": [
    "train=train_features.shape[0]/features.shape[0]\n",
    "test=test_target.shape[0]/target.shape[0]\n",
    "\n",
    "print('Размер тренировочной выборки- {:.0%}'.format(train))\n",
    "print('Размер тестовой выборки - {:.0%}'.format(test))"
   ]
  },
  {
   "cell_type": "code",
   "execution_count": 95,
   "metadata": {},
   "outputs": [],
   "source": [
    "#матрицу шифрования сгенерирую с помощью np.random.normal()"
   ]
  },
  {
   "cell_type": "code",
   "execution_count": 96,
   "metadata": {},
   "outputs": [],
   "source": [
    "# создам обратимую квадратную матрицу со случайными числами размерностью столбцов features\n",
    "state = np.random.RandomState(12345)\n",
    "matrix_1=np.random.normal(size=(features.shape[1],features.shape[1]))"
   ]
  },
  {
   "cell_type": "code",
   "execution_count": 97,
   "metadata": {},
   "outputs": [
    {
     "data": {
      "text/html": [
       "<div>\n",
       "<style scoped>\n",
       "    .dataframe tbody tr th:only-of-type {\n",
       "        vertical-align: middle;\n",
       "    }\n",
       "\n",
       "    .dataframe tbody tr th {\n",
       "        vertical-align: top;\n",
       "    }\n",
       "\n",
       "    .dataframe thead th {\n",
       "        text-align: right;\n",
       "    }\n",
       "</style>\n",
       "<table border=\"1\" class=\"dataframe\">\n",
       "  <thead>\n",
       "    <tr style=\"text-align: right;\">\n",
       "      <th></th>\n",
       "      <th>0</th>\n",
       "      <th>1</th>\n",
       "      <th>2</th>\n",
       "      <th>3</th>\n",
       "    </tr>\n",
       "  </thead>\n",
       "  <tbody>\n",
       "    <tr>\n",
       "      <th>0</th>\n",
       "      <td>-8863.590462</td>\n",
       "      <td>-61245.846370</td>\n",
       "      <td>3653.672228</td>\n",
       "      <td>5719.814343</td>\n",
       "    </tr>\n",
       "    <tr>\n",
       "      <th>1</th>\n",
       "      <td>-6813.970890</td>\n",
       "      <td>-46922.261443</td>\n",
       "      <td>2792.401724</td>\n",
       "      <td>4377.966494</td>\n",
       "    </tr>\n",
       "    <tr>\n",
       "      <th>2</th>\n",
       "      <td>-3771.189316</td>\n",
       "      <td>-25931.322664</td>\n",
       "      <td>1542.463985</td>\n",
       "      <td>2418.374855</td>\n",
       "    </tr>\n",
       "    <tr>\n",
       "      <th>3</th>\n",
       "      <td>-7430.710469</td>\n",
       "      <td>-51489.319244</td>\n",
       "      <td>3074.823043</td>\n",
       "      <td>4815.018962</td>\n",
       "    </tr>\n",
       "    <tr>\n",
       "      <th>4</th>\n",
       "      <td>-4674.192908</td>\n",
       "      <td>-32228.935625</td>\n",
       "      <td>1921.156356</td>\n",
       "      <td>3006.682600</td>\n",
       "    </tr>\n",
       "    <tr>\n",
       "      <th>...</th>\n",
       "      <td>...</td>\n",
       "      <td>...</td>\n",
       "      <td>...</td>\n",
       "      <td>...</td>\n",
       "    </tr>\n",
       "    <tr>\n",
       "      <th>4995</th>\n",
       "      <td>-6377.561260</td>\n",
       "      <td>-44080.829101</td>\n",
       "      <td>2628.053851</td>\n",
       "      <td>4118.170103</td>\n",
       "    </tr>\n",
       "    <tr>\n",
       "      <th>4996</th>\n",
       "      <td>-9349.170150</td>\n",
       "      <td>-64702.781979</td>\n",
       "      <td>3862.743201</td>\n",
       "      <td>6048.555877</td>\n",
       "    </tr>\n",
       "    <tr>\n",
       "      <th>4997</th>\n",
       "      <td>-6045.538225</td>\n",
       "      <td>-41857.978650</td>\n",
       "      <td>2498.030658</td>\n",
       "      <td>3913.003691</td>\n",
       "    </tr>\n",
       "    <tr>\n",
       "      <th>4998</th>\n",
       "      <td>-5836.033881</td>\n",
       "      <td>-40375.656502</td>\n",
       "      <td>2408.048147</td>\n",
       "      <td>3770.661217</td>\n",
       "    </tr>\n",
       "    <tr>\n",
       "      <th>4999</th>\n",
       "      <td>-7246.456808</td>\n",
       "      <td>-50132.405205</td>\n",
       "      <td>2992.842971</td>\n",
       "      <td>4683.587962</td>\n",
       "    </tr>\n",
       "  </tbody>\n",
       "</table>\n",
       "<p>5000 rows × 4 columns</p>\n",
       "</div>"
      ],
      "text/plain": [
       "                0             1            2            3\n",
       "0    -8863.590462 -61245.846370  3653.672228  5719.814343\n",
       "1    -6813.970890 -46922.261443  2792.401724  4377.966494\n",
       "2    -3771.189316 -25931.322664  1542.463985  2418.374855\n",
       "3    -7430.710469 -51489.319244  3074.823043  4815.018962\n",
       "4    -4674.192908 -32228.935625  1921.156356  3006.682600\n",
       "...           ...           ...          ...          ...\n",
       "4995 -6377.561260 -44080.829101  2628.053851  4118.170103\n",
       "4996 -9349.170150 -64702.781979  3862.743201  6048.555877\n",
       "4997 -6045.538225 -41857.978650  2498.030658  3913.003691\n",
       "4998 -5836.033881 -40375.656502  2408.048147  3770.661217\n",
       "4999 -7246.456808 -50132.405205  2992.842971  4683.587962\n",
       "\n",
       "[5000 rows x 4 columns]"
      ]
     },
     "execution_count": 97,
     "metadata": {},
     "output_type": "execute_result"
    }
   ],
   "source": [
    "# зашифрую даннные путем умножения матриц\n",
    "features_1=features @ matrix_1\n",
    "features_1"
   ]
  },
  {
   "cell_type": "markdown",
   "metadata": {},
   "source": [
    "\n",
    "После умножения размер матрицы признаков и кодированных признаков совпадает"
   ]
  },
  {
   "cell_type": "code",
   "execution_count": 98,
   "metadata": {},
   "outputs": [],
   "source": [
    "#качество линейной регресии на нешифрованных данных"
   ]
  },
  {
   "cell_type": "code",
   "execution_count": 99,
   "metadata": {},
   "outputs": [
    {
     "name": "stdout",
     "output_type": "stream",
     "text": [
      "R2: 0.4249455028666801\n"
     ]
    }
   ],
   "source": [
    "model = LinearRegression()\n",
    "\n",
    "model.fit(features, target)\n",
    "\n",
    "predictions = model.predict(features)\n",
    "\n",
    "print('R2:', r2_score(target,predictions))\n"
   ]
  },
  {
   "cell_type": "code",
   "execution_count": 100,
   "metadata": {},
   "outputs": [],
   "source": [
    "#качество линейной регресии c шифрованием данных"
   ]
  },
  {
   "cell_type": "code",
   "execution_count": 101,
   "metadata": {},
   "outputs": [
    {
     "name": "stdout",
     "output_type": "stream",
     "text": [
      "R2: 0.4249455028666802\n"
     ]
    }
   ],
   "source": [
    "model_1 = LinearRegression()\n",
    "\n",
    "model_1.fit(features_1, target)\n",
    "\n",
    "predictions = model_1.predict(features_1)\n",
    "\n",
    "print('R2:', r2_score(target,predictions))"
   ]
  },
  {
   "cell_type": "markdown",
   "metadata": {},
   "source": [
    "\n",
    "Качество моделей с шифрованием при помощи умножения на обратимую матрицу со случайными числами не изменяется\n"
   ]
  },
  {
   "cell_type": "code",
   "execution_count": 102,
   "metadata": {},
   "outputs": [],
   "source": [
    "#декодирую данные обратно\n",
    "matrix_2=np.linalg.inv(matrix_1)"
   ]
  },
  {
   "cell_type": "code",
   "execution_count": 103,
   "metadata": {},
   "outputs": [],
   "source": [
    "#matrix_2"
   ]
  },
  {
   "cell_type": "code",
   "execution_count": 104,
   "metadata": {},
   "outputs": [],
   "source": [
    "features_dec =features_1 @ matrix_2\n"
   ]
  },
  {
   "cell_type": "code",
   "execution_count": 105,
   "metadata": {},
   "outputs": [
    {
     "data": {
      "text/html": [
       "<div>\n",
       "<style scoped>\n",
       "    .dataframe tbody tr th:only-of-type {\n",
       "        vertical-align: middle;\n",
       "    }\n",
       "\n",
       "    .dataframe tbody tr th {\n",
       "        vertical-align: top;\n",
       "    }\n",
       "\n",
       "    .dataframe thead th {\n",
       "        text-align: right;\n",
       "    }\n",
       "</style>\n",
       "<table border=\"1\" class=\"dataframe\">\n",
       "  <thead>\n",
       "    <tr style=\"text-align: right;\">\n",
       "      <th></th>\n",
       "      <th>Пол</th>\n",
       "      <th>Возраст</th>\n",
       "      <th>Зарплата</th>\n",
       "      <th>Члены семьи</th>\n",
       "    </tr>\n",
       "  </thead>\n",
       "  <tbody>\n",
       "    <tr>\n",
       "      <th>0</th>\n",
       "      <td>1</td>\n",
       "      <td>41.0</td>\n",
       "      <td>49600.0</td>\n",
       "      <td>1</td>\n",
       "    </tr>\n",
       "    <tr>\n",
       "      <th>1</th>\n",
       "      <td>0</td>\n",
       "      <td>46.0</td>\n",
       "      <td>38000.0</td>\n",
       "      <td>1</td>\n",
       "    </tr>\n",
       "    <tr>\n",
       "      <th>2</th>\n",
       "      <td>0</td>\n",
       "      <td>29.0</td>\n",
       "      <td>21000.0</td>\n",
       "      <td>0</td>\n",
       "    </tr>\n",
       "    <tr>\n",
       "      <th>3</th>\n",
       "      <td>0</td>\n",
       "      <td>21.0</td>\n",
       "      <td>41700.0</td>\n",
       "      <td>2</td>\n",
       "    </tr>\n",
       "    <tr>\n",
       "      <th>4</th>\n",
       "      <td>1</td>\n",
       "      <td>28.0</td>\n",
       "      <td>26100.0</td>\n",
       "      <td>0</td>\n",
       "    </tr>\n",
       "    <tr>\n",
       "      <th>...</th>\n",
       "      <td>...</td>\n",
       "      <td>...</td>\n",
       "      <td>...</td>\n",
       "      <td>...</td>\n",
       "    </tr>\n",
       "    <tr>\n",
       "      <th>4995</th>\n",
       "      <td>0</td>\n",
       "      <td>28.0</td>\n",
       "      <td>35700.0</td>\n",
       "      <td>2</td>\n",
       "    </tr>\n",
       "    <tr>\n",
       "      <th>4996</th>\n",
       "      <td>0</td>\n",
       "      <td>34.0</td>\n",
       "      <td>52400.0</td>\n",
       "      <td>1</td>\n",
       "    </tr>\n",
       "    <tr>\n",
       "      <th>4997</th>\n",
       "      <td>0</td>\n",
       "      <td>20.0</td>\n",
       "      <td>33900.0</td>\n",
       "      <td>2</td>\n",
       "    </tr>\n",
       "    <tr>\n",
       "      <th>4998</th>\n",
       "      <td>1</td>\n",
       "      <td>22.0</td>\n",
       "      <td>32700.0</td>\n",
       "      <td>3</td>\n",
       "    </tr>\n",
       "    <tr>\n",
       "      <th>4999</th>\n",
       "      <td>1</td>\n",
       "      <td>28.0</td>\n",
       "      <td>40600.0</td>\n",
       "      <td>1</td>\n",
       "    </tr>\n",
       "  </tbody>\n",
       "</table>\n",
       "<p>5000 rows × 4 columns</p>\n",
       "</div>"
      ],
      "text/plain": [
       "      Пол  Возраст  Зарплата  Члены семьи\n",
       "0       1     41.0   49600.0            1\n",
       "1       0     46.0   38000.0            1\n",
       "2       0     29.0   21000.0            0\n",
       "3       0     21.0   41700.0            2\n",
       "4       1     28.0   26100.0            0\n",
       "...   ...      ...       ...          ...\n",
       "4995    0     28.0   35700.0            2\n",
       "4996    0     34.0   52400.0            1\n",
       "4997    0     20.0   33900.0            2\n",
       "4998    1     22.0   32700.0            3\n",
       "4999    1     28.0   40600.0            1\n",
       "\n",
       "[5000 rows x 4 columns]"
      ]
     },
     "execution_count": 105,
     "metadata": {},
     "output_type": "execute_result"
    }
   ],
   "source": [
    "features"
   ]
  },
  {
   "cell_type": "code",
   "execution_count": 106,
   "metadata": {},
   "outputs": [
    {
     "data": {
      "text/html": [
       "<div>\n",
       "<style scoped>\n",
       "    .dataframe tbody tr th:only-of-type {\n",
       "        vertical-align: middle;\n",
       "    }\n",
       "\n",
       "    .dataframe tbody tr th {\n",
       "        vertical-align: top;\n",
       "    }\n",
       "\n",
       "    .dataframe thead th {\n",
       "        text-align: right;\n",
       "    }\n",
       "</style>\n",
       "<table border=\"1\" class=\"dataframe\">\n",
       "  <thead>\n",
       "    <tr style=\"text-align: right;\">\n",
       "      <th></th>\n",
       "      <th>0</th>\n",
       "      <th>1</th>\n",
       "      <th>2</th>\n",
       "      <th>3</th>\n",
       "    </tr>\n",
       "  </thead>\n",
       "  <tbody>\n",
       "    <tr>\n",
       "      <th>0</th>\n",
       "      <td>1.000000e+00</td>\n",
       "      <td>41.0</td>\n",
       "      <td>49600.0</td>\n",
       "      <td>1.000000e+00</td>\n",
       "    </tr>\n",
       "    <tr>\n",
       "      <th>1</th>\n",
       "      <td>3.603865e-13</td>\n",
       "      <td>46.0</td>\n",
       "      <td>38000.0</td>\n",
       "      <td>1.000000e+00</td>\n",
       "    </tr>\n",
       "    <tr>\n",
       "      <th>2</th>\n",
       "      <td>1.917680e-13</td>\n",
       "      <td>29.0</td>\n",
       "      <td>21000.0</td>\n",
       "      <td>-5.821692e-13</td>\n",
       "    </tr>\n",
       "    <tr>\n",
       "      <th>3</th>\n",
       "      <td>-8.646415e-14</td>\n",
       "      <td>21.0</td>\n",
       "      <td>41700.0</td>\n",
       "      <td>2.000000e+00</td>\n",
       "    </tr>\n",
       "    <tr>\n",
       "      <th>4</th>\n",
       "      <td>1.000000e+00</td>\n",
       "      <td>28.0</td>\n",
       "      <td>26100.0</td>\n",
       "      <td>-5.703127e-13</td>\n",
       "    </tr>\n",
       "    <tr>\n",
       "      <th>...</th>\n",
       "      <td>...</td>\n",
       "      <td>...</td>\n",
       "      <td>...</td>\n",
       "      <td>...</td>\n",
       "    </tr>\n",
       "    <tr>\n",
       "      <th>4995</th>\n",
       "      <td>5.118397e-14</td>\n",
       "      <td>28.0</td>\n",
       "      <td>35700.0</td>\n",
       "      <td>2.000000e+00</td>\n",
       "    </tr>\n",
       "    <tr>\n",
       "      <th>4996</th>\n",
       "      <td>1.375677e-13</td>\n",
       "      <td>34.0</td>\n",
       "      <td>52400.0</td>\n",
       "      <td>1.000000e+00</td>\n",
       "    </tr>\n",
       "    <tr>\n",
       "      <th>4997</th>\n",
       "      <td>2.962694e-13</td>\n",
       "      <td>20.0</td>\n",
       "      <td>33900.0</td>\n",
       "      <td>2.000000e+00</td>\n",
       "    </tr>\n",
       "    <tr>\n",
       "      <th>4998</th>\n",
       "      <td>1.000000e+00</td>\n",
       "      <td>22.0</td>\n",
       "      <td>32700.0</td>\n",
       "      <td>3.000000e+00</td>\n",
       "    </tr>\n",
       "    <tr>\n",
       "      <th>4999</th>\n",
       "      <td>1.000000e+00</td>\n",
       "      <td>28.0</td>\n",
       "      <td>40600.0</td>\n",
       "      <td>1.000000e+00</td>\n",
       "    </tr>\n",
       "  </tbody>\n",
       "</table>\n",
       "<p>5000 rows × 4 columns</p>\n",
       "</div>"
      ],
      "text/plain": [
       "                 0     1        2             3\n",
       "0     1.000000e+00  41.0  49600.0  1.000000e+00\n",
       "1     3.603865e-13  46.0  38000.0  1.000000e+00\n",
       "2     1.917680e-13  29.0  21000.0 -5.821692e-13\n",
       "3    -8.646415e-14  21.0  41700.0  2.000000e+00\n",
       "4     1.000000e+00  28.0  26100.0 -5.703127e-13\n",
       "...            ...   ...      ...           ...\n",
       "4995  5.118397e-14  28.0  35700.0  2.000000e+00\n",
       "4996  1.375677e-13  34.0  52400.0  1.000000e+00\n",
       "4997  2.962694e-13  20.0  33900.0  2.000000e+00\n",
       "4998  1.000000e+00  22.0  32700.0  3.000000e+00\n",
       "4999  1.000000e+00  28.0  40600.0  1.000000e+00\n",
       "\n",
       "[5000 rows x 4 columns]"
      ]
     },
     "execution_count": 106,
     "metadata": {},
     "output_type": "execute_result"
    }
   ],
   "source": [
    "pd.DataFrame(features_dec, columns = features_dec.columns)"
   ]
  },
  {
   "cell_type": "markdown",
   "metadata": {},
   "source": [
    "<div class=\"alert alert-block alert-success\">\n",
    "<b>Комментарий ревьюера V.2👍:</b> При расшифровке действительно можно заметить некоторую погрешность вычислений. Все дело в том, что формат float имеет особый способ хранения значений, который не позволяет производить вычисления со 100% точностью. Без перевода данных в формат int они имеют экспоненциальную запись числа (число до e умножается на 10 в степени, которая указана после е), но значения приближены к ожидаемым. Чтобы исправить погрешность вычислений, мы можем сначала произвести огругление (останется проблема с отрицательными нулями) и затем перевести в формат int (сразу перевести не можем, так как astype(int) возьмет целую часть от числа, если было 0.99, то он превратит 0). \n",
    "</div>"
   ]
  },
  {
   "cell_type": "markdown",
   "metadata": {},
   "source": [
    "<div class=\"alert alert-block alert-success\">\n",
    "<b>Комментарий ревьюера👍:</b> Верно, таким образом в случае домножения матрицы признаков на случайную обратимую матрицу можно обеспечить защиту данных, не особо потеряв в качестве модели. (Незначительное отличие вызвано особенностью преобразования матриц и чисел с плавающей точкой, это норма https://docs-python.ru/tutorial/operatsii-chislami-python/problemy-chisel-plavajuschej-zapjatoj/)\n",
    "</div>"
   ]
  },
  {
   "cell_type": "markdown",
   "metadata": {},
   "source": [
    "<div class=\"alert alert-block alert-success\">\n",
    "<b>Комментарий ревьюера👍:</b> Дополнительно можно попробовать декодировать данные обратно\n",
    "</div>"
   ]
  },
  {
   "cell_type": "markdown",
   "metadata": {},
   "source": [
    "## Вывод\n"
   ]
  },
  {
   "cell_type": "markdown",
   "metadata": {},
   "source": [
    "Требовалось защитить данные клиентов страховой компании «Хоть потоп» и разработать такой метод преобразования данных, чтобы по ним было сложно восстановить персональную информацию.\n",
    "\n",
    "Преобразование необходимо было произвести таким образом, чтобы по результату работы алгоритма, качество моделей машинного обучения не ухудшилось.\n",
    "\n",
    "В результате проекта был разработан алгоритм, где данные были преобразованы методом умножения признаков исходных данных на обратимую матрицу. Результатом такого преобразования явилась новая  матрица признаков, которая справилась с основными задачами по шифровке данных и при сравнении качества предсказаний с изначальной моделью  сохранила значения метрики r2score неизменными.\n",
    "\n",
    "Требования поставленной задачи компании «Хоть потоп» были выполнены."
   ]
  },
  {
   "cell_type": "markdown",
   "metadata": {},
   "source": [
    "## Чек-лист проверки"
   ]
  },
  {
   "cell_type": "markdown",
   "metadata": {},
   "source": [
    "Поставьте 'x' в выполненных пунктах. Далее нажмите Shift+Enter."
   ]
  },
  {
   "cell_type": "markdown",
   "metadata": {},
   "source": [
    "- [x]  Jupyter Notebook открыт\n",
    "- [ ]  Весь код выполняется без ошибок\n",
    "- [ ]  Ячейки с кодом расположены в порядке исполнения\n",
    "- [ ]  Выполнен шаг 1: данные загружены\n",
    "- [ ]  Выполнен шаг 2: получен ответ на вопрос об умножении матриц\n",
    "    - [ ]  Указан правильный вариант ответа\n",
    "    - [ ]  Вариант обоснован\n",
    "- [ ]  Выполнен шаг 3: предложен алгоритм преобразования\n",
    "    - [ ]  Алгоритм описан\n",
    "    - [ ]  Алгоритм обоснован\n",
    "- [ ]  Выполнен шаг 4: алгоритм проверен\n",
    "    - [ ]  Алгоритм реализован\n",
    "    - [ ]  Проведено сравнение качества моделей до и после преобразования"
   ]
  },
  {
   "cell_type": "markdown",
   "metadata": {},
   "source": [
    ":)"
   ]
  },
  {
   "cell_type": "markdown",
   "metadata": {},
   "source": [
    "<div class=\"alert alert-block alert-danger\">\n",
    "<b>Комментарий ревьюера❌:</b> Спасибо тебе за проделанную работу, к сожалению, сейчас я не могу принять твой проект, поэтому придётся ещё немного поработать - исправить ошибку в доказательстве.\n",
    "    \n",
    "До скорой встречи, если у тебя есть какие-то вопросы, то обязательно пиши =)\n",
    "    \n",
    "</div>"
   ]
  },
  {
   "cell_type": "markdown",
   "metadata": {},
   "source": [
    "<div class=\"alert alert-block alert-success\">\n",
    "<b>Комментарий ревьюера V.2👍:</b> Дополнительные материалы:\n",
    "\n",
    "Обзоры по применению криптографии в машинном обучении: https://arxiv.org/pdf/1902.04109.pdf, https://www.researchgate.net/publication/342746786_Some_Applications_of_Machine_Learning_in_Cryptography\n",
    "\n",
    "Небольшой обзор на Шифр Хилла: https://habr.com/ru/post/595281/\n",
    "    \n",
    "Ещё пара статей на эту тему:\n",
    "    \n",
    "-\thttps://medium.com/intuit-engineering/machine-learning-on-encrypted-data-no-longer-a-fantasy-58e37e9f31d7\n",
    "-\thttps://towardsdatascience.com/cryptography-crash-course-for-the-intimidated-892b7889528a\n",
    "-\thttps://towardsdatascience.com/homomorphic-encryption-machine-learning-new-business-models-2ba6a4f185d\n",
    "\n",
    "   \n",
    "Примеры использования линейной алгебры в машинном обучении:\n",
    "https://machinelearningmastery.com/examples-of-linear-algebra-in-machine-learning/\n",
    "    \n",
    "Для чего нужна математика в машинном обучении?\n",
    "https://proglib.io/p/dlya-chego-nuzhen-matematicheskiy-analiz-v-mashinnom-obuchenii-2021-02-15\n",
    "\n",
    "Большая статья по векторам:\n",
    "https://neptune.ai/blog/understanding-vectors-from-a-machine-learning-perspective  \n",
    "\n",
    "Можно ещё дополнительно посмотреть лекции от МФТИ https://www.youtube.com/playlist?list=PLk4h7dmY2eYHHTyfLyrl7HmP-H3mMAW08\n",
    "    \n",
    "Классная серия роликов по линейной алгебре на английском (можно включить автоматические русские субтитры): https://www.youtube.com/playlist?list=PLRDl2inPrWQW1QSWhBU0ki-jq_uElkh2a\n",
    "\n",
    "\n",
    "Удачи в будущих проектах и работе, всё обязательно получится!\n",
    "</div>"
   ]
  },
  {
   "cell_type": "code",
   "execution_count": null,
   "metadata": {},
   "outputs": [],
   "source": []
  }
 ],
 "metadata": {
  "ExecuteTimeLog": [
   {
    "duration": 1081,
    "start_time": "2023-03-04T03:01:49.170Z"
   },
   {
    "duration": 77,
    "start_time": "2023-03-04T03:02:07.458Z"
   },
   {
    "duration": 16,
    "start_time": "2023-03-04T03:02:30.200Z"
   },
   {
    "duration": 16,
    "start_time": "2023-03-04T03:02:46.411Z"
   },
   {
    "duration": 26,
    "start_time": "2023-03-04T03:03:31.208Z"
   },
   {
    "duration": 3,
    "start_time": "2023-03-04T03:03:34.979Z"
   },
   {
    "duration": 23,
    "start_time": "2023-03-04T03:03:36.257Z"
   },
   {
    "duration": 3,
    "start_time": "2023-03-04T03:51:19.170Z"
   },
   {
    "duration": 4,
    "start_time": "2023-03-04T03:52:35.516Z"
   },
   {
    "duration": 2,
    "start_time": "2023-03-04T03:53:33.202Z"
   },
   {
    "duration": 4,
    "start_time": "2023-03-04T03:53:34.298Z"
   },
   {
    "duration": 3,
    "start_time": "2023-03-04T03:54:45.108Z"
   },
   {
    "duration": 108,
    "start_time": "2023-03-04T03:54:48.301Z"
   },
   {
    "duration": 3,
    "start_time": "2023-03-04T03:55:14.892Z"
   },
   {
    "duration": 29,
    "start_time": "2023-03-04T03:55:15.862Z"
   },
   {
    "duration": 8,
    "start_time": "2023-03-04T03:55:17.094Z"
   },
   {
    "duration": 10,
    "start_time": "2023-03-04T03:55:17.926Z"
   },
   {
    "duration": 2,
    "start_time": "2023-03-04T03:55:18.932Z"
   },
   {
    "duration": 23,
    "start_time": "2023-03-04T03:55:20.975Z"
   },
   {
    "duration": 4,
    "start_time": "2023-03-04T03:55:30.516Z"
   },
   {
    "duration": 5,
    "start_time": "2023-03-04T03:55:31.692Z"
   },
   {
    "duration": 5,
    "start_time": "2023-03-04T03:55:45.493Z"
   },
   {
    "duration": 4,
    "start_time": "2023-03-04T03:57:11.643Z"
   },
   {
    "duration": 2,
    "start_time": "2023-03-04T03:58:01.571Z"
   },
   {
    "duration": 3,
    "start_time": "2023-03-04T03:58:02.351Z"
   },
   {
    "duration": 12,
    "start_time": "2023-03-04T03:58:06.841Z"
   },
   {
    "duration": 4,
    "start_time": "2023-03-04T03:59:17.441Z"
   },
   {
    "duration": 17,
    "start_time": "2023-03-04T03:59:45.673Z"
   },
   {
    "duration": 3,
    "start_time": "2023-03-04T04:00:05.931Z"
   },
   {
    "duration": 10,
    "start_time": "2023-03-04T04:00:16.102Z"
   },
   {
    "duration": 33,
    "start_time": "2023-03-04T04:03:45.112Z"
   },
   {
    "duration": 10,
    "start_time": "2023-03-04T04:03:51.207Z"
   },
   {
    "duration": 9,
    "start_time": "2023-03-04T04:04:07.991Z"
   },
   {
    "duration": 18,
    "start_time": "2023-03-04T04:06:52.938Z"
   },
   {
    "duration": 2,
    "start_time": "2023-03-04T04:06:54.149Z"
   },
   {
    "duration": 11,
    "start_time": "2023-03-04T04:06:54.758Z"
   },
   {
    "duration": 9,
    "start_time": "2023-03-04T04:07:41.609Z"
   },
   {
    "duration": 8,
    "start_time": "2023-03-04T04:07:54.218Z"
   },
   {
    "duration": 11,
    "start_time": "2023-03-04T04:08:21.984Z"
   },
   {
    "duration": 10,
    "start_time": "2023-03-04T04:08:41.023Z"
   },
   {
    "duration": 12,
    "start_time": "2023-03-04T04:08:43.013Z"
   },
   {
    "duration": 10,
    "start_time": "2023-03-04T04:09:30.791Z"
   },
   {
    "duration": 3,
    "start_time": "2023-03-04T04:10:04.030Z"
   },
   {
    "duration": 29,
    "start_time": "2023-03-04T04:10:07.542Z"
   },
   {
    "duration": 9,
    "start_time": "2023-03-04T04:10:09.090Z"
   },
   {
    "duration": 11,
    "start_time": "2023-03-04T04:10:10.216Z"
   },
   {
    "duration": 2,
    "start_time": "2023-03-04T04:10:11.334Z"
   },
   {
    "duration": 25,
    "start_time": "2023-03-04T04:10:12.743Z"
   },
   {
    "duration": 5,
    "start_time": "2023-03-04T04:15:00.232Z"
   },
   {
    "duration": 6,
    "start_time": "2023-03-04T04:15:16.752Z"
   },
   {
    "duration": 4,
    "start_time": "2023-03-04T04:16:12.095Z"
   },
   {
    "duration": 3,
    "start_time": "2023-03-04T04:16:43.551Z"
   },
   {
    "duration": 12,
    "start_time": "2023-03-04T04:17:01.280Z"
   },
   {
    "duration": 3,
    "start_time": "2023-03-04T04:17:11.737Z"
   },
   {
    "duration": 72,
    "start_time": "2023-03-04T04:17:15.780Z"
   },
   {
    "duration": 13,
    "start_time": "2023-03-04T04:17:30.594Z"
   },
   {
    "duration": 3,
    "start_time": "2023-03-04T04:19:03.345Z"
   },
   {
    "duration": 3,
    "start_time": "2023-03-04T04:19:04.669Z"
   },
   {
    "duration": 29,
    "start_time": "2023-03-04T04:19:05.966Z"
   },
   {
    "duration": 9,
    "start_time": "2023-03-04T04:19:07.095Z"
   },
   {
    "duration": 11,
    "start_time": "2023-03-04T04:19:08.279Z"
   },
   {
    "duration": 2,
    "start_time": "2023-03-04T04:19:09.127Z"
   },
   {
    "duration": 25,
    "start_time": "2023-03-04T04:19:09.954Z"
   },
   {
    "duration": 4,
    "start_time": "2023-03-04T04:19:35.934Z"
   },
   {
    "duration": 5,
    "start_time": "2023-03-04T04:19:36.846Z"
   },
   {
    "duration": 4,
    "start_time": "2023-03-04T04:19:37.699Z"
   },
   {
    "duration": 2,
    "start_time": "2023-03-04T04:19:38.893Z"
   },
   {
    "duration": 4,
    "start_time": "2023-03-04T04:19:47.004Z"
   },
   {
    "duration": 16,
    "start_time": "2023-03-04T04:19:48.638Z"
   },
   {
    "duration": 2,
    "start_time": "2023-03-04T04:20:05.069Z"
   },
   {
    "duration": 13,
    "start_time": "2023-03-04T04:20:06.716Z"
   },
   {
    "duration": 4,
    "start_time": "2023-03-04T04:20:07.883Z"
   },
   {
    "duration": 10,
    "start_time": "2023-03-04T04:20:10.197Z"
   },
   {
    "duration": 4,
    "start_time": "2023-03-04T04:31:43.805Z"
   },
   {
    "duration": 7,
    "start_time": "2023-03-04T04:31:45.006Z"
   },
   {
    "duration": 6,
    "start_time": "2023-03-04T04:31:46.725Z"
   },
   {
    "duration": 3,
    "start_time": "2023-03-04T04:31:48.972Z"
   },
   {
    "duration": 3,
    "start_time": "2023-03-04T04:31:57.565Z"
   },
   {
    "duration": 14,
    "start_time": "2023-03-04T04:32:00.016Z"
   },
   {
    "duration": 2,
    "start_time": "2023-03-04T04:32:03.741Z"
   },
   {
    "duration": 10,
    "start_time": "2023-03-04T04:32:04.560Z"
   },
   {
    "duration": 2,
    "start_time": "2023-03-04T04:32:05.540Z"
   },
   {
    "duration": 10,
    "start_time": "2023-03-04T04:32:06.498Z"
   },
   {
    "duration": 77,
    "start_time": "2023-03-04T04:40:44.461Z"
   },
   {
    "duration": 1042,
    "start_time": "2023-03-05T04:27:43.699Z"
   },
   {
    "duration": 78,
    "start_time": "2023-03-05T04:27:46.174Z"
   },
   {
    "duration": 14,
    "start_time": "2023-03-05T04:27:46.903Z"
   },
   {
    "duration": 10,
    "start_time": "2023-03-05T04:27:47.631Z"
   },
   {
    "duration": 2,
    "start_time": "2023-03-05T04:27:48.239Z"
   },
   {
    "duration": 22,
    "start_time": "2023-03-05T04:27:48.919Z"
   },
   {
    "duration": 3,
    "start_time": "2023-03-05T04:27:57.168Z"
   },
   {
    "duration": 4,
    "start_time": "2023-03-05T04:28:00.557Z"
   },
   {
    "duration": 5,
    "start_time": "2023-03-05T04:28:01.381Z"
   },
   {
    "duration": 2,
    "start_time": "2023-03-05T04:28:02.222Z"
   },
   {
    "duration": 3,
    "start_time": "2023-03-05T04:28:03.831Z"
   },
   {
    "duration": 11,
    "start_time": "2023-03-05T04:28:04.620Z"
   },
   {
    "duration": 3,
    "start_time": "2023-03-05T04:28:06.299Z"
   },
   {
    "duration": 16,
    "start_time": "2023-03-05T04:28:07.990Z"
   },
   {
    "duration": 3,
    "start_time": "2023-03-05T04:28:08.844Z"
   },
   {
    "duration": 8,
    "start_time": "2023-03-05T04:28:09.552Z"
   },
   {
    "duration": 86,
    "start_time": "2023-03-05T04:29:21.033Z"
   },
   {
    "duration": 10,
    "start_time": "2023-03-05T04:32:37.599Z"
   },
   {
    "duration": 12,
    "start_time": "2023-03-05T04:32:43.850Z"
   },
   {
    "duration": 11,
    "start_time": "2023-03-05T04:32:50.486Z"
   },
   {
    "duration": 9,
    "start_time": "2023-03-05T04:33:58.349Z"
   },
   {
    "duration": 9,
    "start_time": "2023-03-05T04:34:12.629Z"
   },
   {
    "duration": 10,
    "start_time": "2023-03-05T04:34:37.756Z"
   },
   {
    "duration": 10,
    "start_time": "2023-03-05T04:34:48.004Z"
   },
   {
    "duration": 7,
    "start_time": "2023-03-05T04:35:31.266Z"
   },
   {
    "duration": 12,
    "start_time": "2023-03-05T04:35:36.153Z"
   },
   {
    "duration": 11,
    "start_time": "2023-03-05T04:36:14.717Z"
   },
   {
    "duration": 8,
    "start_time": "2023-03-05T04:59:25.419Z"
   },
   {
    "duration": 8,
    "start_time": "2023-03-05T04:59:51.418Z"
   },
   {
    "duration": 4,
    "start_time": "2023-03-05T05:03:17.070Z"
   },
   {
    "duration": 3,
    "start_time": "2023-03-05T05:04:59.010Z"
   },
   {
    "duration": 4,
    "start_time": "2023-03-05T05:37:58.634Z"
   },
   {
    "duration": 4,
    "start_time": "2023-03-05T05:38:13.727Z"
   },
   {
    "duration": 10,
    "start_time": "2023-03-05T05:38:52.680Z"
   },
   {
    "duration": 8,
    "start_time": "2023-03-05T05:39:07.029Z"
   },
   {
    "duration": 4,
    "start_time": "2023-03-05T05:39:37.416Z"
   },
   {
    "duration": 4,
    "start_time": "2023-03-05T05:40:32.115Z"
   },
   {
    "duration": 5,
    "start_time": "2023-03-05T05:40:40.560Z"
   },
   {
    "duration": 4,
    "start_time": "2023-03-05T05:40:51.394Z"
   },
   {
    "duration": 15,
    "start_time": "2023-03-05T05:41:24.195Z"
   },
   {
    "duration": 3,
    "start_time": "2023-03-05T05:43:52.877Z"
   },
   {
    "duration": 4,
    "start_time": "2023-03-05T05:43:54.201Z"
   },
   {
    "duration": 12,
    "start_time": "2023-03-05T05:43:57.840Z"
   },
   {
    "duration": 4,
    "start_time": "2023-03-05T05:44:13.541Z"
   },
   {
    "duration": 9,
    "start_time": "2023-03-05T05:46:23.380Z"
   },
   {
    "duration": 12,
    "start_time": "2023-03-05T05:47:07.981Z"
   },
   {
    "duration": 3,
    "start_time": "2023-03-05T05:49:39.652Z"
   },
   {
    "duration": 4,
    "start_time": "2023-03-05T05:49:40.678Z"
   },
   {
    "duration": 12,
    "start_time": "2023-03-05T05:49:42.368Z"
   },
   {
    "duration": 3,
    "start_time": "2023-03-05T05:49:56.610Z"
   },
   {
    "duration": 28,
    "start_time": "2023-03-05T05:49:57.198Z"
   },
   {
    "duration": 8,
    "start_time": "2023-03-05T05:49:57.613Z"
   },
   {
    "duration": 10,
    "start_time": "2023-03-05T05:49:58.206Z"
   },
   {
    "duration": 5,
    "start_time": "2023-03-05T05:49:58.806Z"
   },
   {
    "duration": 19,
    "start_time": "2023-03-05T05:49:59.321Z"
   },
   {
    "duration": 4,
    "start_time": "2023-03-05T05:50:06.958Z"
   },
   {
    "duration": 6,
    "start_time": "2023-03-05T05:50:07.444Z"
   },
   {
    "duration": 4,
    "start_time": "2023-03-05T05:50:07.918Z"
   },
   {
    "duration": 2,
    "start_time": "2023-03-05T05:50:08.494Z"
   },
   {
    "duration": 3,
    "start_time": "2023-03-05T05:50:08.974Z"
   },
   {
    "duration": 9,
    "start_time": "2023-03-05T05:50:10.039Z"
   },
   {
    "duration": 3,
    "start_time": "2023-03-05T05:50:11.530Z"
   },
   {
    "duration": 17,
    "start_time": "2023-03-05T05:50:11.980Z"
   },
   {
    "duration": 2,
    "start_time": "2023-03-05T05:50:12.551Z"
   },
   {
    "duration": 10,
    "start_time": "2023-03-05T05:50:13.304Z"
   },
   {
    "duration": 2,
    "start_time": "2023-03-05T05:50:14.857Z"
   },
   {
    "duration": 3,
    "start_time": "2023-03-05T05:50:16.503Z"
   },
   {
    "duration": 4,
    "start_time": "2023-03-05T05:50:17.854Z"
   },
   {
    "duration": 12,
    "start_time": "2023-03-05T05:50:19.012Z"
   },
   {
    "duration": 3,
    "start_time": "2023-03-05T05:50:44.535Z"
   },
   {
    "duration": 13,
    "start_time": "2023-03-05T05:50:45.830Z"
   },
   {
    "duration": 10,
    "start_time": "2023-03-05T05:51:55.180Z"
   },
   {
    "duration": 13,
    "start_time": "2023-03-05T05:52:04.124Z"
   },
   {
    "duration": 12,
    "start_time": "2023-03-05T05:54:17.868Z"
   },
   {
    "duration": 14,
    "start_time": "2023-03-05T05:54:46.430Z"
   },
   {
    "duration": 10,
    "start_time": "2023-03-05T05:56:06.351Z"
   },
   {
    "duration": 3,
    "start_time": "2023-03-05T05:56:17.784Z"
   },
   {
    "duration": 12,
    "start_time": "2023-03-05T05:56:17.790Z"
   },
   {
    "duration": 12,
    "start_time": "2023-03-05T05:56:18.145Z"
   },
   {
    "duration": 10,
    "start_time": "2023-03-05T05:56:20.681Z"
   },
   {
    "duration": 15,
    "start_time": "2023-03-05T05:56:22.739Z"
   },
   {
    "duration": 3,
    "start_time": "2023-03-05T05:57:26.471Z"
   },
   {
    "duration": 11,
    "start_time": "2023-03-05T05:57:28.370Z"
   },
   {
    "duration": 13,
    "start_time": "2023-03-05T05:57:29.531Z"
   },
   {
    "duration": 3,
    "start_time": "2023-03-05T06:00:34.891Z"
   },
   {
    "duration": 6,
    "start_time": "2023-03-05T06:00:35.598Z"
   },
   {
    "duration": 32,
    "start_time": "2023-03-05T06:00:36.461Z"
   },
   {
    "duration": 8,
    "start_time": "2023-03-05T06:00:37.563Z"
   },
   {
    "duration": 10,
    "start_time": "2023-03-05T06:00:38.258Z"
   },
   {
    "duration": 3,
    "start_time": "2023-03-05T06:00:40.448Z"
   },
   {
    "duration": 20,
    "start_time": "2023-03-05T06:00:41.568Z"
   },
   {
    "duration": 4,
    "start_time": "2023-03-05T06:00:52.365Z"
   },
   {
    "duration": 4,
    "start_time": "2023-03-05T06:00:53.184Z"
   },
   {
    "duration": 4,
    "start_time": "2023-03-05T06:00:54.463Z"
   },
   {
    "duration": 4,
    "start_time": "2023-03-05T06:00:55.204Z"
   },
   {
    "duration": 3,
    "start_time": "2023-03-05T06:00:57.465Z"
   },
   {
    "duration": 9,
    "start_time": "2023-03-05T06:00:59.452Z"
   },
   {
    "duration": 3,
    "start_time": "2023-03-05T06:01:01.921Z"
   },
   {
    "duration": 13,
    "start_time": "2023-03-05T06:01:02.532Z"
   },
   {
    "duration": 3,
    "start_time": "2023-03-05T06:01:03.429Z"
   },
   {
    "duration": 8,
    "start_time": "2023-03-05T06:01:04.933Z"
   },
   {
    "duration": 3,
    "start_time": "2023-03-05T06:01:06.467Z"
   },
   {
    "duration": 2,
    "start_time": "2023-03-05T06:01:07.388Z"
   },
   {
    "duration": 3,
    "start_time": "2023-03-05T06:01:08.018Z"
   },
   {
    "duration": 11,
    "start_time": "2023-03-05T06:01:09.165Z"
   },
   {
    "duration": 11,
    "start_time": "2023-03-05T06:01:10.516Z"
   }
  ],
  "kernelspec": {
   "display_name": "Python 3 (ipykernel)",
   "language": "python",
   "name": "python3"
  },
  "language_info": {
   "codemirror_mode": {
    "name": "ipython",
    "version": 3
   },
   "file_extension": ".py",
   "mimetype": "text/x-python",
   "name": "python",
   "nbconvert_exporter": "python",
   "pygments_lexer": "ipython3",
   "version": "3.9.5"
  },
  "toc": {
   "base_numbering": 1,
   "nav_menu": {},
   "number_sections": true,
   "sideBar": true,
   "skip_h1_title": true,
   "title_cell": "Содержание",
   "title_sidebar": "Contents",
   "toc_cell": true,
   "toc_position": {},
   "toc_section_display": true,
   "toc_window_display": true
  }
 },
 "nbformat": 4,
 "nbformat_minor": 2
}
